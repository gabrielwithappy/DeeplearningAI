{
 "cells": [
  {
   "cell_type": "code",
   "execution_count": 1,
   "metadata": {},
   "outputs": [],
   "source": [
    "import langchain"
   ]
  },
  {
   "cell_type": "markdown",
   "metadata": {},
   "source": [
    "## PDF Loading"
   ]
  },
  {
   "cell_type": "code",
   "execution_count": 2,
   "metadata": {},
   "outputs": [],
   "source": [
    "from langchain.document_loaders import PyPDFLoader\n",
    "loader = PyPDFLoader(\"./pdf/HowtoReadPaper.pdf\")"
   ]
  },
  {
   "cell_type": "code",
   "execution_count": 3,
   "metadata": {},
   "outputs": [],
   "source": [
    "pages = loader.load()"
   ]
  },
  {
   "cell_type": "code",
   "execution_count": 4,
   "metadata": {},
   "outputs": [
    {
     "data": {
      "text/plain": [
       "3"
      ]
     },
     "metadata": {},
     "output_type": "display_data"
    },
    {
     "data": {
      "text/plain": [
       "'How to Read a Paper\\nS. Keshav\\nDavid R. Cheriton School of Computer Science, University of Waterloo\\nWaterloo, ON, Canada\\nkeshav@uwaterloo.ca\\nABSTRACT\\nResearchers spend a great deal of time reading research pa-\\npers. However, this skill is rarely taught, leading to much\\nwasted eﬀort. This article outlines a practical and eﬃcient\\nthree-pass method for reading research papers. I also de-\\nscribe how to use this method to do a literature survey.\\nCategories and Subject Descriptors: A.1 [Introductory\\nan'"
      ]
     },
     "metadata": {},
     "output_type": "display_data"
    }
   ],
   "source": [
    "display(len(pages))\n",
    "display(pages[0].page_content[:500])"
   ]
  },
  {
   "cell_type": "markdown",
   "metadata": {},
   "source": [
    "## URLloading"
   ]
  },
  {
   "cell_type": "code",
   "execution_count": 12,
   "metadata": {},
   "outputs": [],
   "source": [
    "from langchain.document_loaders import WebBaseLoader\n",
    "loader = WebBaseLoader(\"https://gabrielwithappy.github.io/docs/blog/posts/2023/12/2023-12-14-RAG/\")"
   ]
  },
  {
   "cell_type": "code",
   "execution_count": 13,
   "metadata": {},
   "outputs": [],
   "source": [
    "docs = loader.load()"
   ]
  },
  {
   "cell_type": "code",
   "execution_count": 14,
   "metadata": {},
   "outputs": [
    {
     "name": "stdout",
     "output_type": "stream",
     "text": [
      "        BookShelf - RAG(Retrieval Argumented Generation) 정리하기                                BookShelf           Home    Blog    Books    Slides    About               202312RAG(Retrieval Argumented Generation) 정리하기               2023         09         Plotly 3D Plot만들기      날짜 범위 index 만들기      Plotly Rador 차트 만들기      Plotly Axis 포멧 변경하기      Plotly 마커 모양 변경하기      Pandas 데이터프레임 머지      Plotly Histogram Plot만들기      Pandas 모든 컬럼이 NaN일 때만 삭제하기      Plotly Time Series 날짜 범위 UI 사용하기      Pandas \n"
     ]
    }
   ],
   "source": [
    "print(docs[0].page_content.replace(\"\\n\", \" \")[:500])"
   ]
  },
  {
   "cell_type": "code",
   "execution_count": null,
   "metadata": {},
   "outputs": [],
   "source": []
  }
 ],
 "metadata": {
  "kernelspec": {
   "display_name": ".venv",
   "language": "python",
   "name": "python3"
  },
  "language_info": {
   "codemirror_mode": {
    "name": "ipython",
    "version": 3
   },
   "file_extension": ".py",
   "mimetype": "text/x-python",
   "name": "python",
   "nbconvert_exporter": "python",
   "pygments_lexer": "ipython3",
   "version": "3.10.12"
  }
 },
 "nbformat": 4,
 "nbformat_minor": 2
}
