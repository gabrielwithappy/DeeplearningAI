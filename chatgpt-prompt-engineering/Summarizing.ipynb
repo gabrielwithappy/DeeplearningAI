{
 "cells": [
  {
   "cell_type": "code",
   "execution_count": 1,
   "metadata": {},
   "outputs": [],
   "source": [
    "import os\n",
    "import getpass\n",
    "\n",
    "if \"GOOGLE_API_KEY\" not in os.environ:\n",
    "    os.environ[\"GOOGLE_API_KEY\"] = getpass\n",
    "\n",
    "GOOGLE_API_KEY = os.environ[\"GOOGLE_API_KEY\"]"
   ]
  },
  {
   "cell_type": "code",
   "execution_count": 2,
   "metadata": {},
   "outputs": [
    {
     "name": "stderr",
     "output_type": "stream",
     "text": [
      "/home/gabrielyang/00_PRJ/dev_group/DeeplearningAI/langchain/.venv/lib/python3.10/site-packages/tqdm/auto.py:21: TqdmWarning: IProgress not found. Please update jupyter and ipywidgets. See https://ipywidgets.readthedocs.io/en/stable/user_install.html\n",
      "  from .autonotebook import tqdm as notebook_tqdm\n"
     ]
    }
   ],
   "source": [
    "import google.generativeai as genai\n",
    "genai.configure(api_key=GOOGLE_API_KEY)\n",
    "model = genai.GenerativeModel('gemini-pro')"
   ]
  },
  {
   "cell_type": "code",
   "execution_count": 3,
   "metadata": {},
   "outputs": [],
   "source": [
    "def get_completion(prompt, temperature=0):\n",
    "    messages = f\"role:user, content:{prompt}\"\n",
    "    response = model.generate_content(messages, generation_config={'temperature':temperature})\n",
    "    return response\n"
   ]
  },
  {
   "cell_type": "markdown",
   "metadata": {},
   "source": [
    "## Text to summarize"
   ]
  },
  {
   "cell_type": "code",
   "execution_count": 10,
   "metadata": {},
   "outputs": [],
   "source": [
    "product_review = f\"\"\"\n",
    "딸의 생일 선물로 이 판다 봉제 인형을 사줬어요. \n",
    "딸아이가 너무 좋아해서 어디든 가지고 다녀요. \n",
    "인형은 부드럽고 매우 귀여운데, 얼굴도 친근한 표정을 하고 있어요. \n",
    "하지만 제가 지불한 금액에 비해 조금 작은 것 같아요. \n",
    "같은 가격에 더 큰 사이즈의 다른 옵션이 있을지도 모르겠어요. \n",
    "예상보다 하루 일찍 도착해서, 제가 딸에게 주기 전에 잠시 가지고 놀 수 있었어요.\n",
    "\"\"\""
   ]
  },
  {
   "cell_type": "code",
   "execution_count": 20,
   "metadata": {},
   "outputs": [
    {
     "name": "stdout",
     "output_type": "stream",
     "text": [
      "\n",
      "당신의 임무는 전달되는 제품리뷰문장을 짥은 문장으로 요약하는 것입니다.\n",
      "삼중 백틱으로 전달되는 아래의 제품리뷰문장을 50자 이내로 요약해줘. \n",
      "\n",
      "Review : ```\n",
      "딸의 생일 선물로 이 판다 봉제 인형을 사줬어요. \n",
      "딸아이가 너무 좋아해서 어디든 가지고 다녀요. \n",
      "인형은 부드럽고 매우 귀여운데, 얼굴도 친근한 표정을 하고 있어요. \n",
      "하지만 제가 지불한 금액에 비해 조금 작은 것 같아요. \n",
      "같은 가격에 더 큰 사이즈의 다른 옵션이 있을지도 모르겠어요. \n",
      "예상보다 하루 일찍 도착해서, 제가 딸에게 주기 전에 잠시 가지고 놀 수 있었어요.\n",
      "```\n"
     ]
    }
   ],
   "source": [
    "prompt = f\"\"\"\n",
    "당신의 임무는 전달되는 제품리뷰문장을 짥은 문장으로 요약하는 것입니다.\n",
    "삼중 백틱으로 전달되는 아래의 제품리뷰문장을 50자 이내로 요약해줘. \n",
    "\n",
    "Review : ```{product_review}```\"\"\"\n",
    "print(prompt)"
   ]
  },
  {
   "cell_type": "code",
   "execution_count": 21,
   "metadata": {},
   "outputs": [],
   "source": [
    "response = get_completion(prompt)"
   ]
  },
  {
   "cell_type": "code",
   "execution_count": 22,
   "metadata": {},
   "outputs": [
    {
     "name": "stdout",
     "output_type": "stream",
     "text": [
      "부드럽고 귀여운 판다 봉제 인형은 딸이 좋아하지만 가격에 비해 작은 사이즈.\n"
     ]
    }
   ],
   "source": [
    "print(response.text)"
   ]
  },
  {
   "cell_type": "markdown",
   "metadata": {},
   "source": [
    "## 특정 내용에 포커싱해서 요약하기"
   ]
  },
  {
   "cell_type": "code",
   "execution_count": 24,
   "metadata": {},
   "outputs": [
    {
     "name": "stdout",
     "output_type": "stream",
     "text": [
      "\n",
      "당신의 임무는 전달되는 제품리뷰문장을 짥은 문장으로 요약하는 것입니다.\n",
      "삼중 백틱으로 전달되는 아래의 제품리뷰문장을 50자 이내로 요약해줘\n",
      "가격과 소비자가 느끼는 가치에 대해서 중심으로 요약해줘\n",
      "\n",
      "Review : ```\n",
      "딸의 생일 선물로 이 판다 봉제 인형을 사줬어요. \n",
      "딸아이가 너무 좋아해서 어디든 가지고 다녀요. \n",
      "인형은 부드럽고 매우 귀여운데, 얼굴도 친근한 표정을 하고 있어요. \n",
      "하지만 제가 지불한 금액에 비해 조금 작은 것 같아요. \n",
      "같은 가격에 더 큰 사이즈의 다른 옵션이 있을지도 모르겠어요. \n",
      "예상보다 하루 일찍 도착해서, 제가 딸에게 주기 전에 잠시 가지고 놀 수 있었어요.\n",
      "```\n"
     ]
    }
   ],
   "source": [
    "prompt = f\"\"\"\n",
    "당신의 임무는 전달되는 제품리뷰문장을 짥은 문장으로 요약하는 것입니다.\n",
    "삼중 백틱으로 전달되는 아래의 제품리뷰문장을 50자 이내로 요약해줘\n",
    "가격과 소비자가 느끼는 가치에 대해서 중심으로 요약해줘\n",
    "\n",
    "Review : ```{product_review}```\"\"\"\n",
    "print(prompt)"
   ]
  },
  {
   "cell_type": "code",
   "execution_count": 25,
   "metadata": {},
   "outputs": [],
   "source": [
    "response = get_completion(prompt)"
   ]
  },
  {
   "cell_type": "code",
   "execution_count": 26,
   "metadata": {},
   "outputs": [
    {
     "name": "stdout",
     "output_type": "stream",
     "text": [
      "부드럽고 귀여운 판다 봉제 인형은 딸이 좋아하지만 가격에 비해 작은 사이즈.\n"
     ]
    }
   ],
   "source": [
    "print(response.text)"
   ]
  },
  {
   "cell_type": "code",
   "execution_count": 27,
   "metadata": {},
   "outputs": [],
   "source": [
    "prompt = f\"\"\"\n",
    "당신의 임무는 전달되는 제품리뷰문장을 짥은 문장으로 요약하는 것입니다.\n",
    "요약문은 배송팀에 전달될 목적으로 생성합니다.\n",
    "삼중 백틱으로 전달되는 아래의 제품리뷰문장을 50자 이내로 요약해주세요.\n",
    "요약문은 배송에 관련된 내용에 집중합니다.\n",
    "\n",
    "Review : ```{product_review}```\"\"\"\n",
    "\n",
    "response = get_completion(prompt)\n"
   ]
  },
  {
   "cell_type": "code",
   "execution_count": 28,
   "metadata": {},
   "outputs": [
    {
     "name": "stdout",
     "output_type": "stream",
     "text": [
      "판다 봉제 인형, 예상보다 하루 일찍 도착.\n"
     ]
    }
   ],
   "source": [
    "print(response.text)"
   ]
  },
  {
   "cell_type": "markdown",
   "metadata": {},
   "source": [
    "## 요약 대신 추출을 사용하기"
   ]
  },
  {
   "cell_type": "code",
   "execution_count": 30,
   "metadata": {},
   "outputs": [],
   "source": [
    "prompt = f\"\"\"\n",
    "당신의 임무는 전자상러래 사이트의 제품리뷰에서 관련된 정보를 추출하여 필요한 부서에 전달하는 것입니다.\n",
    "\n",
    "아래의 제품리뷰는 삼중백틱으로 전달됩니다. 제품의 배송에 관련된 내용을 30자 이내로 추출하세요\n",
    "\n",
    "Review : ```{product_review}```\n",
    "\"\"\"\n",
    "\n",
    "response = get_completion(prompt)\n"
   ]
  },
  {
   "cell_type": "code",
   "execution_count": 31,
   "metadata": {},
   "outputs": [
    {
     "name": "stdout",
     "output_type": "stream",
     "text": [
      "예상보다 하루 일찍 도착\n"
     ]
    }
   ],
   "source": [
    "print(response.text)"
   ]
  },
  {
   "cell_type": "markdown",
   "metadata": {},
   "source": [
    "## 여러 제품문서를 요약하기"
   ]
  },
  {
   "cell_type": "code",
   "execution_count": 35,
   "metadata": {},
   "outputs": [
    {
     "name": "stdout",
     "output_type": "stream",
     "text": [
      "```python\n",
      "review_1 = f\"\"\"\n",
      "딸의 생일에 판다 인형을 사줬는데, 딸은 너무 좋아해서 어디든지 가지고 다닙니다. 부드럽고 \\\n",
      "정말 귀엽고, 얼굴이 친절해 보입니다. 하지만 가격에 비해 조금 작은 것 같아요. \\\n",
      "같은 가격에 더 큰 다른 옵션이 있을 것 같아요. 예상보다 하루 일찍 도착해서 \\\n",
      "딸에게 주기 전에 제가 먼저 가지고 놀았습니다.\n",
      "\"\"\"\n",
      "\n",
      "review_2 = f\"\"\"\n",
      "침실에 멋진 램프가 필요했는데, 이 램프는 추가 보관 공간이 있고 가격도 너무 비싸지 않았습니다. \\\n",
      "빨리 받았습니다. 이틀 만에 도착했습니다. 운송 중에 램프의 줄이 끊어졌는데, 회사에서 \\\n",
      "새로운 것을 기꺼이 보내주었습니다. 며칠 만에 도착했습니다. 조립하기 쉬웠습니다. \\\n",
      "그런데 부품이 하나 빠졌는데, 고객 지원팀에 연락했더니 빠진 부품을 아주 빨리 보내주었습니다! \\\n",
      "고객과 제품을 소중히 여기는 훌륭한 회사인 것 같습니다.\n",
      "\"\"\"\n",
      "\n",
      "review_3 = f\"\"\"\n",
      "치과 위생사가 전기칫솔을 추천해서 이걸 샀습니다. 지금까지 배터리 수명이 꽤 인상적인 것 같습니다. \\\n",
      "처음 충전하고 첫 주 동안 충전기를 꽂아두고 배터리를 컨디셔닝한 후, 충전기를 뽑고 \\\n",
      "지난 3주 동안 하루에 두 번씩 칫솔질을 했는데도 같은 충전으로 사용했습니다. \\\n",
      "하지만 칫솔 머리가 너무 작습니다. 이거보다 큰 아기 칫솔도 봤습니다. \\\n",
      "머리가 더 크고 길이가 다른 칫솔이 있어서 치아 사이를 더 잘 청소할 수 있었으면 좋았을 텐데, \\\n",
      "이건 그렇지 못합니다. 전반적으로 50달러 정도면 좋은 거래입니다. \\\n",
      "제조업체의 교체 헤드는 꽤 비싸지만, 가격이 더 합리적인 제네릭 헤드를 구입할 수 있습니다. \\\n",
      "이 칫솔을 쓰면 매일 치과에 간 것 같은 기분이 듭니다. 이빨이 반짝반짝 깨끗해집니다!\n",
      "\"\"\"\n",
      "\n",
      "review_4 = f\"\"\"\n",
      "11월에 계절 세일로 17피스 시스템을 49달러 정도에 팔았는데, 반값 정도였지만, \\\n",
      "어떤 이유에서인지(가격 인상이라고 할까요) 12월 두 번째 주에 같은 시스템의 가격이 \\\n",
      "70~89달러로 올랐습니다. 11피스 시스템도 이전 세일 가격인 29달러에서 10달러 정도 올랐습니다. \\\n",
      "그래서 괜찮아 보이지만, 받침대를 보면 몇 년 전 이전 버전만큼 블레이드가 제대로 고정되는 \\\n",
      "부분이 좋아 보이지 않습니다. 하지만 아주 조심해서 사용할 계획입니다. \\\n",
      "(예를 들어, 콩, 얼음, 쌀 등 딱딱한 물건은 먼저 블렌더에 넣고 갈아서 원하는 크기로 \\\n",
      "분쇄한 다음, 더 가는 가루를 만들기 위해 휘핑 블레이드로 바꾸고, 스무디를 만들 때는 \\\n",
      "먼저 크로스 커팅 블레이드를 사용한 다음, 더 가늘게/덜 묽게 만들어야 할 때는 플랫 블레이드를 사용합니다.) \\\n",
      "스무디를 만들 때는 과일과 야채를 잘게 자르고 얼려서(시금치를 사용하는 경우-시금치를 \\\n",
      "가볍게 끓여서 부드럽게 한 다음 사용할 때까지 얼려두고-셔벗을 만드는 경우는 작은 \\\n",
      "또는 중간 크기의 푸드 프로세서를 사용) 그렇게 하면 스무디를 만들 때 얼음을 많이 넣지 않아도 됩니다. \\\n",
      "약 1년 후에 모터에서 이상한 소리가 나기 시작했습니다. 고객 서비스에 전화했지만 \\\n",
      "보증 기간이 이미 만료되어서 새로 하나를 사야 했습니다. FYI: 이런 종류의 제품의 전반적인 \\\n",
      "품질이 떨어졌기 때문에 브랜드 인지도와 소비자 충성도에 의존해 판매를 유지하고 있습니다. \\\n",
      "약 이틀 만에 받았습니다.\n",
      "\"\"\"\n",
      "```\n"
     ]
    }
   ],
   "source": [
    "prompt=f\"\"\"아래의 `리뷰정보`에서 삼중백틱으로 표시된 영어문자을 한국어로 변역해줘.\n",
    "번역된 영문은 아래의 포멧을 사용해서 파이썬 코드로 작성해줘\n",
    "\n",
    "포멧:\n",
    "review_<숫자> = f ```\n",
    "한국어로 번역된 문장\n",
    "```\n",
    "\n",
    "리뷰정보:\n",
    "review_1 = ```\n",
    "Got this panda plush toy for my daughter's birthday, \\\n",
    "who loves it and takes it everywhere. It's soft and \\ \n",
    "super cute, and its face has a friendly look. It's \\ \n",
    "a bit small for what I paid though. I think there \\ \n",
    "might be other options that are bigger for the \\ \n",
    "same price. It arrived a day earlier than expected, \\ \n",
    "so I got to play with it myself before I gave it \\ \n",
    "to her.\n",
    "```\n",
    "\n",
    "review_2 = ```\n",
    "Needed a nice lamp for my bedroom, and this one \\\n",
    "had additional storage and not too high of a price \\\n",
    "point. Got it fast - arrived in 2 days. The string \\\n",
    "to the lamp broke during the transit and the company \\\n",
    "happily sent over a new one. Came within a few days \\\n",
    "as well. It was easy to put together. Then I had a \\\n",
    "missing part, so I contacted their support and they \\\n",
    "very quickly got me the missing piece! Seems to me \\\n",
    "to be a great company that cares about their customers \\\n",
    "and products. \n",
    "```\n",
    "\n",
    "review_3 = ```\n",
    "My dental hygienist recommended an electric toothbrush, \\\n",
    "which is why I got this. The battery life seems to be \\\n",
    "pretty impressive so far. After initial charging and \\\n",
    "leaving the charger plugged in for the first week to \\\n",
    "condition the battery, I've unplugged the charger and \\\n",
    "been using it for twice daily brushing for the last \\\n",
    "3 weeks all on the same charge. But the toothbrush head \\\n",
    "is too small. I’ve seen baby toothbrushes bigger than \\\n",
    "this one. I wish the head was bigger with different \\\n",
    "length bristles to get between teeth better because \\\n",
    "this one doesn’t.  Overall if you can get this one \\\n",
    "around the $50 mark, it's a good deal. The manufactuer's \\\n",
    "replacements heads are pretty expensive, but you can \\\n",
    "get generic ones that're more reasonably priced. This \\\n",
    "toothbrush makes me feel like I've been to the dentist \\\n",
    "every day. My teeth feel sparkly clean! \n",
    "```\n",
    "\n",
    "review_4 = ```\n",
    "So, they still had the 17 piece system on seasonal \\\n",
    "sale for around $49 in the month of November, about \\\n",
    "half off, but for some reason (call it price gouging) \\\n",
    "around the second week of December the prices all went \\\n",
    "up to about anywhere from between $70-$89 for the same \\\n",
    "system. And the 11 piece system went up around $10 or \\\n",
    "so in price also from the earlier sale price of $29. \\\n",
    "So it looks okay, but if you look at the base, the part \\\n",
    "where the blade locks into place doesn’t look as good \\\n",
    "as in previous editions from a few years ago, but I \\\n",
    "plan to be very gentle with it (example, I crush \\\n",
    "very hard items like beans, ice, rice, etc. in the \\ \n",
    "blender first then pulverize them in the serving size \\\n",
    "I want in the blender then switch to the whipping \\\n",
    "blade for a finer flour, and use the cross cutting blade \\\n",
    "first when making smoothies, then use the flat blade \\\n",
    "if I need them finer/less pulpy). Special tip when making \\\n",
    "smoothies, finely cut and freeze the fruits and \\\n",
    "vegetables (if using spinach-lightly stew soften the \\ \n",
    "spinach then freeze until ready for use-and if making \\\n",
    "sorbet, use a small to medium sized food processor) \\ \n",
    "that you plan to use that way you can avoid adding so \\\n",
    "much ice if at all-when making your smoothie. \\\n",
    "After about a year, the motor was making a funny noise. \\\n",
    "I called customer service but the warranty expired \\\n",
    "already, so I had to buy another one. FYI: The overall \\\n",
    "quality has gone done in these types of products, so \\\n",
    "they are kind of counting on brand recognition and \\\n",
    "consumer loyalty to maintain sales. Got it in about \\\n",
    "two days.\n",
    "```\n",
    "\"\"\"\n",
    "\n",
    "response = get_completion(prompt)\n",
    "print(response.text)"
   ]
  },
  {
   "cell_type": "code",
   "execution_count": 40,
   "metadata": {},
   "outputs": [
    {
     "name": "stdout",
     "output_type": "stream",
     "text": [
      "판다 인형은 부드럽고 귀엽지만 가격에 비해 작음 \n",
      "\n",
      "램프 추가 보관 공간 있음, 가격 저렴, 빠른 배송, 조립 쉬움, 고객 지원 우수 \n",
      "\n",
      "전기칫솔의 배터리 수명은 3주 동안 하루에 두 번씩 칫솔질해도 충분하며, 칫솔 머리가 너무 작아 치아 사이를 잘 청소하지 못합니다. \n",
      "\n",
      "11월 세일 때 구입한 블렌더가 12월에 가격이 올랐고, 품질이 떨어졌습니다. 약 1년 후에 모터에서 이상한 소리가 나기 시작했습니다. \n",
      "\n"
     ]
    }
   ],
   "source": [
    "review_1 = f\"\"\"\n",
    "딸의 생일에 판다 인형을 사줬는데, 딸은 너무 좋아해서 어디든지 가지고 다닙니다. 부드럽고 \\\n",
    "정말 귀엽고, 얼굴이 친절해 보입니다. 하지만 가격에 비해 조금 작은 것 같아요. \\\n",
    "같은 가격에 더 큰 다른 옵션이 있을 것 같아요. 예상보다 하루 일찍 도착해서 \\\n",
    "딸에게 주기 전에 제가 먼저 가지고 놀았습니다.\n",
    "\"\"\"\n",
    "\n",
    "review_2 = f\"\"\"\n",
    "침실에 멋진 램프가 필요했는데, 이 램프는 추가 보관 공간이 있고 가격도 너무 비싸지 않았습니다. \\\n",
    "빨리 받았습니다. 이틀 만에 도착했습니다. 운송 중에 램프의 줄이 끊어졌는데, 회사에서 \\\n",
    "새로운 것을 기꺼이 보내주었습니다. 며칠 만에 도착했습니다. 조립하기 쉬웠습니다. \\\n",
    "그런데 부품이 하나 빠졌는데, 고객 지원팀에 연락했더니 빠진 부품을 아주 빨리 보내주었습니다! \\\n",
    "고객과 제품을 소중히 여기는 훌륭한 회사인 것 같습니다.\n",
    "\"\"\"\n",
    "\n",
    "review_3 = f\"\"\"\n",
    "치과 위생사가 전기칫솔을 추천해서 이걸 샀습니다. 지금까지 배터리 수명이 꽤 인상적인 것 같습니다. \\\n",
    "처음 충전하고 첫 주 동안 충전기를 꽂아두고 배터리를 컨디셔닝한 후, 충전기를 뽑고 \\\n",
    "지난 3주 동안 하루에 두 번씩 칫솔질을 했는데도 같은 충전으로 사용했습니다. \\\n",
    "하지만 칫솔 머리가 너무 작습니다. 이거보다 큰 아기 칫솔도 봤습니다. \\\n",
    "머리가 더 크고 길이가 다른 칫솔이 있어서 치아 사이를 더 잘 청소할 수 있었으면 좋았을 텐데, \\\n",
    "이건 그렇지 못합니다. 전반적으로 50달러 정도면 좋은 거래입니다. \\\n",
    "제조업체의 교체 헤드는 꽤 비싸지만, 가격이 더 합리적인 제네릭 헤드를 구입할 수 있습니다. \\\n",
    "이 칫솔을 쓰면 매일 치과에 간 것 같은 기분이 듭니다. 이빨이 반짝반짝 깨끗해집니다!\n",
    "\"\"\"\n",
    "\n",
    "review_4 = f\"\"\"\n",
    "11월에 계절 세일로 17피스 시스템을 49달러 정도에 팔았는데, 반값 정도였지만, \\\n",
    "어떤 이유에서인지(가격 인상이라고 할까요) 12월 두 번째 주에 같은 시스템의 가격이 \\\n",
    "70~89달러로 올랐습니다. 11피스 시스템도 이전 세일 가격인 29달러에서 10달러 정도 올랐습니다. \\\n",
    "그래서 괜찮아 보이지만, 받침대를 보면 몇 년 전 이전 버전만큼 블레이드가 제대로 고정되는 \\\n",
    "부분이 좋아 보이지 않습니다. 하지만 아주 조심해서 사용할 계획입니다. \\\n",
    "(예를 들어, 콩, 얼음, 쌀 등 딱딱한 물건은 먼저 블렌더에 넣고 갈아서 원하는 크기로 \\\n",
    "분쇄한 다음, 더 가는 가루를 만들기 위해 휘핑 블레이드로 바꾸고, 스무디를 만들 때는 \\\n",
    "먼저 크로스 커팅 블레이드를 사용한 다음, 더 가늘게/덜 묽게 만들어야 할 때는 플랫 블레이드를 사용합니다.) \\\n",
    "스무디를 만들 때는 과일과 야채를 잘게 자르고 얼려서(시금치를 사용하는 경우-시금치를 \\\n",
    "가볍게 끓여서 부드럽게 한 다음 사용할 때까지 얼려두고-셔벗을 만드는 경우는 작은 \\\n",
    "또는 중간 크기의 푸드 프로세서를 사용) 그렇게 하면 스무디를 만들 때 얼음을 많이 넣지 않아도 됩니다. \\\n",
    "약 1년 후에 모터에서 이상한 소리가 나기 시작했습니다. 고객 서비스에 전화했지만 \\\n",
    "보증 기간이 이미 만료되어서 새로 하나를 사야 했습니다. FYI: 이런 종류의 제품의 전반적인 \\\n",
    "품질이 떨어졌기 때문에 브랜드 인지도와 소비자 충성도에 의존해 판매를 유지하고 있습니다. \\\n",
    "약 이틀 만에 받았습니다.\n",
    "\"\"\"\n",
    "\n",
    "reviews = [review_1, review_2, review_3, review_4]\n",
    "\n",
    "for review in reviews:\n",
    "    prompt = f\"\"\" 당신의 임무는 전자상거래 사이트의 제품리뷰에서 관련된 정보를 추출하여 필요한 부서에 전달하는 것입니다.\n",
    "        아래의 제품리뷰는 삼중백틱으로 전달됩니다. 제품리뷰 내용을 30자 이내로 추출하세요\n",
    "        Review : ```{review}``` \"\"\"\n",
    "    response = get_completion(prompt)\n",
    "    print(response.text, \"\\n\")"
   ]
  },
  {
   "cell_type": "code",
   "execution_count": null,
   "metadata": {},
   "outputs": [],
   "source": []
  }
 ],
 "metadata": {
  "kernelspec": {
   "display_name": ".venv",
   "language": "python",
   "name": "python3"
  },
  "language_info": {
   "codemirror_mode": {
    "name": "ipython",
    "version": 3
   },
   "file_extension": ".py",
   "mimetype": "text/x-python",
   "name": "python",
   "nbconvert_exporter": "python",
   "pygments_lexer": "ipython3",
   "version": "3.10.12"
  }
 },
 "nbformat": 4,
 "nbformat_minor": 2
}
